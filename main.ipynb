{
 "cells": [
  {
   "cell_type": "code",
   "execution_count": 3,
   "metadata": {},
   "outputs": [],
   "source": [
    "import scipy.io\n",
    "import pandas as pd\n",
    "import numpy as np\n",
    "from matplotlib import pyplot as plt"
   ]
  },
  {
   "cell_type": "code",
   "execution_count": 23,
   "metadata": {},
   "outputs": [],
   "source": [
    "class BData():\n",
    "    def __init__(self, skeleton_location, VGG_location):\n",
    "        self.skeleton = np.array(\n",
    "            scipy.io.loadmat(skeleton_location)[\"skeldata\"])\n",
    "        self.VGG = np.array(scipy.io.loadmat(VGG_location)[\"features\"])\n",
    "\n",
    "    def missing_data(self):\n",
    "        #each column is a frame\n",
    "        # index 0 is the frame number\n",
    "        # Every 3 indexes are the x,y coordinates of the joints and the Pi probability of being present - we have 18 diferent joints\n",
    "        # indexes 3x+1 are the x coordinates \n",
    "        # indexes 3x+2 are the y coordinates\n",
    "        # indexes 3x+3 are the Pi probabilities\n",
    "\n",
    "        #copy the data\n",
    "        data = self.skeleton.copy()\n",
    "\n",
    "        #randomly put 10% of the Pi probabilities to 0 for all frames\n",
    "        for i in range(data.shape[1]):\n",
    "            # range(3, data.shape[0], 3) works by taking the indexes 3,6,9,12,15,18,21,24,27,30,33,36,39,42,45,48,51 and 54 \n",
    "            for j in range(3, data.shape[0], 3):\n",
    "                if np.random.rand() < 0.1:\n",
    "                    data[j, i] = 0\n",
    "        print(\"Missing data\")\n",
    "        print(data)\n",
    "        return data\n",
    "\n",
    "    #recover missing data by implementing the grdient descent algorithm\n",
    "    #def recover_data(self, missing_data_matrix):\n",
    "        #copy the data\n",
    "        #data = missing_data_matrix.copy()\n",
    "        #apply the gradient descent algorithm with 100 iterations\n",
    "        #for i in range(100):\n",
    "            \n",
    "    def EDA(self):\n",
    "        # p = [f\"p{i}\" for i in range((self.skeleton[:, 0]).shape[0]-3)]\n",
    "\n",
    "        # index = [\"x\", \"y\", \"p\"]*round((self.skeleton[:, 0].shape[0]-1)/3)\n",
    "        index = [j+str(i+1) for j in [\"x\", \"y\", \"p\"]\n",
    "                 for i in range(round((self.skeleton[:, 0].shape[0]-1)/3))]\n",
    "        skeleton_df = pd.DataFrame(\n",
    "            self.skeleton.transpose(), columns=[\"f\", *index])\n",
    "\n",
    "        ts = skeleton_df.plot.scatter(x='x1', y='y1')\n",
    "        ts.plot()\n",
    "        print(\"Skeleton EDA\")\n",
    "        plt.show()\n",
    "        VGG_df = pd.DataFrame(self.VGG)\n",
    "        VGG_df.info()\n",
    "\n",
    "    def SVD(self, r=5):\n",
    "        U, S, Vt = np.linalg.svd(self.skeleton, full_matrices=False)\n",
    "        self.aprox = (U[:, :r] * S[:r]) @ Vt[:r, :]\n",
    "        plt.scatter(self.aprox[0], self.aprox[1])\n",
    "        print(\"SVD aproximation\")\n",
    "        plt.show()\n",
    "\n",
    "    def Kmeans(self, k=5):\n",
    "        from sklearn.cluster import KMeans\n",
    "        kmeans = KMeans(n_clusters=k, random_state=0).fit(self.skeleton)\n",
    "        print(\"Kmeans\")\n",
    "        print(kmeans.labels_)\n",
    "        print(kmeans.cluster_centers_)\n",
    "        #plot the data and the clusters\n",
    "        plt.scatter(self.skeleton[:, 0], self.skeleton[:, 1], c=kmeans.labels_, cmap='rainbow')\n",
    "        plt.scatter(kmeans.cluster_centers_[:, 0], kmeans.cluster_centers_[:, 1], color='black')\n",
    "        \n",
    "        \n"
   ]
  },
  {
   "cell_type": "code",
   "execution_count": 24,
   "metadata": {},
   "outputs": [
    {
     "name": "stderr",
     "output_type": "stream",
     "text": [
      "/home/boas/.local/lib/python3.10/site-packages/sklearn/cluster/_kmeans.py:870: FutureWarning: The default value of `n_init` will change from 10 to 'auto' in 1.4. Set the value of `n_init` explicitly to suppress the warning\n",
      "  warnings.warn(\n"
     ]
    },
    {
     "name": "stdout",
     "output_type": "stream",
     "text": [
      "Kmeans\n",
      "[1 2 0 3 2 0 3 2 0 3 2 0 3 2 0 3 2 0 3 2 0 3 2 0 3 2 0 3 2 0 3 2 0 3 2 0 3\n",
      " 2 0 3 2 0 3 2 0 3 2 0 3 2 0 3 2 0 3]\n",
      "[[4.40227676e-01 4.98440094e-01 4.22668082e-01 ... 3.82914024e-01\n",
      "  3.07627498e-01 4.56788417e-01]\n",
      " [0.00000000e+00 0.00000000e+00 0.00000000e+00 ... 1.04770000e+04\n",
      "  1.04780000e+04 1.04800000e+04]\n",
      " [5.35218040e-01 6.69379372e-01 1.39580185e-01 ... 4.32781565e-01\n",
      "  4.29897771e-01 5.29223112e-01]\n",
      " [4.65244518e-01 4.03892121e-01 4.33659806e-01 ... 2.50993066e-01\n",
      "  1.95282576e-01 2.38377368e-01]]\n"
     ]
    },
    {
     "data": {
      "image/png": "[encoded data removed]",
      "text/plain": [
       "<Figure size 640x480 with 1 Axes>"
      ]
     },
     "metadata": {},
     "output_type": "display_data"
    }
   ],
   "source": [
    "def main():\n",
    "    data = BData(\"Data/girosmallveryslow2_openpose_complete.mat\",\n",
    "                 \"Data/girosmallveryslow2_vggfeatures.mat\")\n",
    "    #data.EDA()\n",
    "    #data.SVD()\n",
    "    data.Kmeans(4)\n",
    "    #missing_data=data.missing_data()\n",
    "    #recover_data= data.recover_data(missing_data)\n",
    "\n",
    "if __name__ == '__main__':\n",
    "    main()"
   ]
  }
 ],
 "metadata": {
  "kernelspec": {
   "display_name": "Python 3",
   "language": "python",
   "name": "python3"
  },
  "language_info": {
   "codemirror_mode": {
    "name": "ipython",
    "version": 3
   },
   "file_extension": ".py",
   "mimetype": "text/x-python",
   "name": "python",
   "nbconvert_exporter": "python",
   "pygments_lexer": "ipython3",
   "version": "3.10.6"
  },
  "orig_nbformat": 4
 },
 "nbformat": 4,
 "nbformat_minor": 2
}
